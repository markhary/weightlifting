{
 "cells": [
  {
   "cell_type": "code",
   "execution_count": 84,
   "id": "ff1b2a72",
   "metadata": {
    "ExecuteTime": {
     "end_time": "2023-05-11T15:37:01.127196Z",
     "start_time": "2023-05-11T15:37:01.116423Z"
    }
   },
   "outputs": [],
   "source": [
    "import numpy as np\n",
    "import pandas as pd\n",
    "import matplotlib.pyplot as plt\n",
    "import seaborn as sns\n",
    "\n",
    "%matplotlib inline"
   ]
  },
  {
   "cell_type": "code",
   "execution_count": 85,
   "id": "a9ac4f91",
   "metadata": {
    "ExecuteTime": {
     "end_time": "2023-05-11T15:37:01.697888Z",
     "start_time": "2023-05-11T15:37:01.677050Z"
    }
   },
   "outputs": [],
   "source": [
    "column_name = 'data'\n",
    "df = pd.read_csv(\"data.csv\", dtype={column_name:str}, comment='@');"
   ]
  },
  {
   "cell_type": "code",
   "execution_count": 87,
   "id": "ebca747a",
   "metadata": {
    "ExecuteTime": {
     "end_time": "2023-05-11T15:37:12.245785Z",
     "start_time": "2023-05-11T15:37:12.231517Z"
    }
   },
   "outputs": [
    {
     "data": {
      "text/html": [
       "<div>\n",
       "<style scoped>\n",
       "    .dataframe tbody tr th:only-of-type {\n",
       "        vertical-align: middle;\n",
       "    }\n",
       "\n",
       "    .dataframe tbody tr th {\n",
       "        vertical-align: top;\n",
       "    }\n",
       "\n",
       "    .dataframe thead th {\n",
       "        text-align: right;\n",
       "    }\n",
       "</style>\n",
       "<table border=\"1\" class=\"dataframe\">\n",
       "  <thead>\n",
       "    <tr style=\"text-align: right;\">\n",
       "      <th></th>\n",
       "      <th>row_id</th>\n",
       "      <th>USERID</th>\n",
       "      <th>TIMESTAMP</th>\n",
       "      <th>belongSys</th>\n",
       "      <th>logs</th>\n",
       "      <th>_id</th>\n",
       "      <th>record</th>\n",
       "      <th>mydate</th>\n",
       "      <th>eid</th>\n",
       "      <th>ename</th>\n",
       "      <th>day_item_id</th>\n",
       "      <th>belongsession</th>\n",
       "      <th>logTime</th>\n",
       "      <th>interval_logs</th>\n",
       "    </tr>\n",
       "  </thead>\n",
       "  <tbody>\n",
       "    <tr>\n",
       "      <th>0</th>\n",
       "      <td>9973082272</td>\n",
       "      <td>10669995</td>\n",
       "      <td>2022-12-14 01:59:05</td>\n",
       "      <td>1</td>\n",
       "      <td>10x15,13x12,17x8</td>\n",
       "      <td>1</td>\n",
       "      <td>21.53</td>\n",
       "      <td>2022-12-13</td>\n",
       "      <td>1057</td>\n",
       "      <td>Cable Mid Chest Crossover</td>\n",
       "      <td>39</td>\n",
       "      <td>1670978854</td>\n",
       "      <td>1670978864</td>\n",
       "      <td>0,0,0</td>\n",
       "    </tr>\n",
       "    <tr>\n",
       "      <th>1</th>\n",
       "      <td>9973084827</td>\n",
       "      <td>10669995</td>\n",
       "      <td>2022-12-14 01:59:05</td>\n",
       "      <td>1</td>\n",
       "      <td>10x15,13x12,17x8</td>\n",
       "      <td>2</td>\n",
       "      <td>21.53</td>\n",
       "      <td>2022-12-13</td>\n",
       "      <td>14</td>\n",
       "      <td>Cable Cross-Over</td>\n",
       "      <td>37</td>\n",
       "      <td>1670978854</td>\n",
       "      <td>1670978901</td>\n",
       "      <td>0,0,0</td>\n",
       "    </tr>\n",
       "  </tbody>\n",
       "</table>\n",
       "</div>"
      ],
      "text/plain": [
       "       row_id    USERID            TIMESTAMP  belongSys              logs  \\\n",
       "0  9973082272  10669995  2022-12-14 01:59:05          1  10x15,13x12,17x8   \n",
       "1  9973084827  10669995  2022-12-14 01:59:05          1  10x15,13x12,17x8   \n",
       "\n",
       "   _id  record      mydate   eid                      ename  day_item_id  \\\n",
       "0    1   21.53  2022-12-13  1057  Cable Mid Chest Crossover           39   \n",
       "1    2   21.53  2022-12-13    14           Cable Cross-Over           37   \n",
       "\n",
       "   belongsession     logTime interval_logs  \n",
       "0     1670978854  1670978864         0,0,0  \n",
       "1     1670978854  1670978901         0,0,0  "
      ]
     },
     "metadata": {},
     "output_type": "display_data"
    }
   ],
   "source": [
    "display(df.iloc[0:2])"
   ]
  },
  {
   "cell_type": "code",
   "execution_count": null,
   "id": "ffe0dd19",
   "metadata": {},
   "outputs": [],
   "source": []
  }
 ],
 "metadata": {
  "kernelspec": {
   "display_name": "Python 3 (ipykernel)",
   "language": "python",
   "name": "python3"
  },
  "language_info": {
   "codemirror_mode": {
    "name": "ipython",
    "version": 3
   },
   "file_extension": ".py",
   "mimetype": "text/x-python",
   "name": "python",
   "nbconvert_exporter": "python",
   "pygments_lexer": "ipython3",
   "version": "3.9.7"
  },
  "toc": {
   "base_numbering": 1,
   "nav_menu": {},
   "number_sections": true,
   "sideBar": true,
   "skip_h1_title": false,
   "title_cell": "Table of Contents",
   "title_sidebar": "Contents",
   "toc_cell": false,
   "toc_position": {},
   "toc_section_display": true,
   "toc_window_display": false
  }
 },
 "nbformat": 4,
 "nbformat_minor": 5
}
