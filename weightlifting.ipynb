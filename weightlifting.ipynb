{
 "cells": [
  {
   "cell_type": "code",
   "execution_count": 147,
   "id": "7a80c59c",
   "metadata": {
    "ExecuteTime": {
     "end_time": "2023-05-11T18:01:46.796427Z",
     "start_time": "2023-05-11T18:01:46.791525Z"
    }
   },
   "outputs": [],
   "source": [
    "import numpy as np\n",
    "import pandas as pd\n",
    "import matplotlib.pyplot as plt\n",
    "import matplotlib.dates as mdates\n",
    "import seaborn as sns\n",
    "\n",
    "%matplotlib inline"
   ]
  },
  {
   "cell_type": "code",
   "execution_count": 141,
   "id": "eaf9e4db",
   "metadata": {
    "ExecuteTime": {
     "end_time": "2023-05-11T17:53:19.499589Z",
     "start_time": "2023-05-11T17:53:19.487451Z"
    }
   },
   "outputs": [],
   "source": [
    "input_file = \"data/data.csv\"\n",
    "df = pd.read_csv(input_file, comment='#');"
   ]
  },
  {
   "cell_type": "code",
   "execution_count": 203,
   "id": "f919d2da",
   "metadata": {
    "ExecuteTime": {
     "end_time": "2023-05-11T18:30:24.947105Z",
     "start_time": "2023-05-11T18:30:24.944322Z"
    }
   },
   "outputs": [],
   "source": [
    "#df.head()"
   ]
  },
  {
   "cell_type": "code",
   "execution_count": 204,
   "id": "e0b91e5c",
   "metadata": {
    "ExecuteTime": {
     "end_time": "2023-05-11T18:30:28.169687Z",
     "start_time": "2023-05-11T18:30:28.165935Z"
    }
   },
   "outputs": [],
   "source": [
    "#df.ename.unique()"
   ]
  },
  {
   "cell_type": "code",
   "execution_count": 206,
   "id": "1f881e11",
   "metadata": {
    "ExecuteTime": {
     "end_time": "2023-05-11T18:30:34.414318Z",
     "start_time": "2023-05-11T18:30:34.407344Z"
    }
   },
   "outputs": [],
   "source": [
    "# convert date to date_time format\n",
    "mydate = 'mydate'\n",
    "df[mydate]= pd.to_datetime(df[mydate])\n",
    "#df.dtypes"
   ]
  },
  {
   "cell_type": "code",
   "execution_count": 207,
   "id": "b0f72dd2",
   "metadata": {
    "ExecuteTime": {
     "end_time": "2023-05-11T18:30:36.438823Z",
     "start_time": "2023-05-11T18:30:36.429524Z"
    }
   },
   "outputs": [],
   "source": [
    "record = 'record'\n",
    "barbell_bench_press = 'Barbell Bench Press'\n",
    "barbell_squat = 'Barbell Squat'\n",
    "barbell_deadlift = 'Barbell Deadlift'\n",
    "barbell_military_press = 'Barbell Military Press'\n",
    "barbell_preacher_curl = 'Barbell Preacher Curl'\n",
    "barbell_skull_crusher = 'EZ Bar Decline Close Grip Skull Crusher'\n",
    "machine_leg_press = 'Machine Leg Press'"
   ]
  },
  {
   "cell_type": "code",
   "execution_count": 208,
   "id": "bf60e41e",
   "metadata": {
    "ExecuteTime": {
     "end_time": "2023-05-11T18:30:41.580737Z",
     "start_time": "2023-05-11T18:30:41.574661Z"
    }
   },
   "outputs": [],
   "source": [
    "def format_axes(ax):\n",
    "    ax.set(xlabel=None)\n",
    "    ax.set_ylabel('Pounds')\n",
    "    ax.xaxis.set_major_locator(mdates.MonthLocator())\n",
    "    ax.xaxis.set_minor_locator(mdates.WeekdayLocator())\n",
    "    ax.xaxis.set_major_formatter(mdates.DateFormatter('%Y-%m'))\n",
    "    for label in ax.get_xticklabels(which='major'):\n",
    "        label.set(rotation=30, horizontalalignment='right',fontsize=20)\n",
    "    ax.grid(True)"
   ]
  },
  {
   "cell_type": "code",
   "execution_count": null,
   "id": "e8d9c9d5",
   "metadata": {
    "ExecuteTime": {
     "start_time": "2023-05-11T18:30:43.111Z"
    },
    "scrolled": false
   },
   "outputs": [],
   "source": [
    "fig, axes = plt.subplots(4, 2, figsize=(30, 60))\n",
    "#fig.subplots_adjust(hspace=0.3)\n",
    "sns.set(font_scale=2)\n",
    "\n",
    "variable = barbell_bench_press\n",
    "ax = axes[0,0]\n",
    "sns.lineplot(ax=ax, data=df.loc[df['ename'] == variable], x=mydate, y=record).set(title=variable)\n",
    "format_axes(ax)\n",
    "\n",
    "variable = barbell_squat\n",
    "ax = axes[0,1]\n",
    "sns.lineplot(ax=ax, data=df.loc[df['ename'] == variable], x=mydate, y=record).set(title=variable)\n",
    "format_axes(ax)\n",
    "\n",
    "variable = barbell_deadlift\n",
    "ax = axes[1,0]\n",
    "sns.lineplot(ax=ax, data=df.loc[df['ename'] == variable], x=mydate, y=record).set(title=variable)\n",
    "format_axes(ax)\n",
    "\n",
    "variable = barbell_military_press\n",
    "ax = axes[1,1]\n",
    "sns.lineplot(ax=ax, data=df.loc[df['ename'] == variable], x=mydate, y=record).set(title=variable)\n",
    "format_axes(ax)\n",
    "\n",
    "variable = barbell_preacher_curl\n",
    "ax = axes[2,0]\n",
    "sns.lineplot(ax=ax, data=df.loc[df['ename'] == variable], x=mydate, y=record).set(title=variable)\n",
    "format_axes(ax)\n",
    "\n",
    "variable = barbell_skull_crusher\n",
    "ax = axes[2,1]\n",
    "sns.lineplot(ax=ax, data=df.loc[df['ename'] == variable], x=mydate, y=record).set(title=variable)\n",
    "format_axes(ax)\n",
    "\n",
    "variable = machine_leg_press\n",
    "ax = axes[3,0]\n",
    "sns.lineplot(ax=ax, data=df.loc[df['ename'] == variable], x=mydate, y=record).set(title=variable)\n",
    "format_axes(ax)\n",
    "\n",
    "fig.delaxes(axes[3][1])"
   ]
  },
  {
   "cell_type": "code",
   "execution_count": null,
   "id": "921faba2",
   "metadata": {},
   "outputs": [],
   "source": []
  }
 ],
 "metadata": {
  "kernelspec": {
   "display_name": "Python 3 (ipykernel)",
   "language": "python",
   "name": "python3"
  },
  "language_info": {
   "codemirror_mode": {
    "name": "ipython",
    "version": 3
   },
   "file_extension": ".py",
   "mimetype": "text/x-python",
   "name": "python",
   "nbconvert_exporter": "python",
   "pygments_lexer": "ipython3",
   "version": "3.9.7"
  },
  "toc": {
   "base_numbering": 1,
   "nav_menu": {},
   "number_sections": true,
   "sideBar": true,
   "skip_h1_title": false,
   "title_cell": "Table of Contents",
   "title_sidebar": "Contents",
   "toc_cell": false,
   "toc_position": {},
   "toc_section_display": true,
   "toc_window_display": false
  }
 },
 "nbformat": 4,
 "nbformat_minor": 5
}
